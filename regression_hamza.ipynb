{
  "cells": [
    {
      "cell_type": "code",
      "execution_count": 142,
      "metadata": {
        "id": "HwllWQOLfvvC"
      },
      "outputs": [],
      "source": [
        "#Libraries importation\n",
        "\n",
        "import numpy as np\n",
        "import pandas as pd\n",
        "import matplotlib.pyplot as plt "
      ]
    },
    {
      "cell_type": "code",
      "execution_count": 143,
      "metadata": {
        "colab": {
          "base_uri": "https://localhost:8080/",
          "height": 465
        },
        "id": "ayrUlWQSfvvG",
        "outputId": "03a589d7-9e23-4c4e-bd90-de638dd49b0d"
      },
      "outputs": [
        {
          "name": "stdout",
          "output_type": "stream",
          "text": [
            "Index(['temperature', 'rendement'], dtype='object')\n"
          ]
        },
        {
          "data": {
            "text/plain": [
              "<matplotlib.collections.PathCollection at 0x7f0b1d0eabb0>"
            ]
          },
          "execution_count": 143,
          "metadata": {},
          "output_type": "execute_result"
        },
        {
          "data": {
            "image/png": "[encoded data removed]",
            "text/plain": [
              "<Figure size 640x480 with 1 Axes>"
            ]
          },
          "metadata": {},
          "output_type": "display_data"
        }
      ],
      "source": [
        "# Data importation\n",
        "data=pd.read_csv('data.csv')\n",
        "\n",
        "#show columns\n",
        "print(data.columns)\n",
        "\n",
        "#show data\n",
        "\n",
        "\n",
        "# plot scatter plot of temperature vs. rendement\n",
        "plt.scatter(data.temperature,data.rendement)\n"
      ]
    },
    {
      "cell_type": "code",
      "execution_count": 144,
      "metadata": {
        "colab": {
          "base_uri": "https://localhost:8080/",
          "height": 363
        },
        "id": "3dYyy9V1oqY2",
        "outputId": "f1d9161c-4e0a-4d92-d19a-de35dd8de3f5"
      },
      "outputs": [
        {
          "data": {
            "text/html": [
              "\n",
              "  <div id=\"df-4602d623-4125-4eeb-8ce4-4e913e65ff0e\">\n",
              "    <div class=\"colab-df-container\">\n",
              "      <div>\n",
              "<style scoped>\n",
              "    .dataframe tbody tr th:only-of-type {\n",
              "        vertical-align: middle;\n",
              "    }\n",
              "\n",
              "    .dataframe tbody tr th {\n",
              "        vertical-align: top;\n",
              "    }\n",
              "\n",
              "    .dataframe thead th {\n",
              "        text-align: right;\n",
              "    }\n",
              "</style>\n",
              "<table border=\"1\" class=\"dataframe\">\n",
              "  <thead>\n",
              "    <tr style=\"text-align: right;\">\n",
              "      <th></th>\n",
              "      <th>temperature</th>\n",
              "      <th>rendement</th>\n",
              "    </tr>\n",
              "  </thead>\n",
              "  <tbody>\n",
              "    <tr>\n",
              "      <th>0</th>\n",
              "      <td>100</td>\n",
              "      <td>45</td>\n",
              "    </tr>\n",
              "    <tr>\n",
              "      <th>1</th>\n",
              "      <td>110</td>\n",
              "      <td>51</td>\n",
              "    </tr>\n",
              "    <tr>\n",
              "      <th>2</th>\n",
              "      <td>120</td>\n",
              "      <td>54</td>\n",
              "    </tr>\n",
              "    <tr>\n",
              "      <th>3</th>\n",
              "      <td>130</td>\n",
              "      <td>61</td>\n",
              "    </tr>\n",
              "    <tr>\n",
              "      <th>4</th>\n",
              "      <td>140</td>\n",
              "      <td>66</td>\n",
              "    </tr>\n",
              "    <tr>\n",
              "      <th>5</th>\n",
              "      <td>150</td>\n",
              "      <td>70</td>\n",
              "    </tr>\n",
              "    <tr>\n",
              "      <th>6</th>\n",
              "      <td>160</td>\n",
              "      <td>74</td>\n",
              "    </tr>\n",
              "    <tr>\n",
              "      <th>7</th>\n",
              "      <td>170</td>\n",
              "      <td>78</td>\n",
              "    </tr>\n",
              "    <tr>\n",
              "      <th>8</th>\n",
              "      <td>180</td>\n",
              "      <td>85</td>\n",
              "    </tr>\n",
              "    <tr>\n",
              "      <th>9</th>\n",
              "      <td>190</td>\n",
              "      <td>89</td>\n",
              "    </tr>\n",
              "  </tbody>\n",
              "</table>\n",
              "</div>\n",
              "      <button class=\"colab-df-convert\" onclick=\"convertToInteractive('df-4602d623-4125-4eeb-8ce4-4e913e65ff0e')\"\n",
              "              title=\"Convert this dataframe to an interactive table.\"\n",
              "              style=\"display:none;\">\n",
              "        \n",
              "  <svg xmlns=\"http://www.w3.org/2000/svg\" height=\"24px\"viewBox=\"0 0 24 24\"\n",
              "       width=\"24px\">\n",
              "    <path d=\"M0 0h24v24H0V0z\" fill=\"none\"/>\n",
              "    <path d=\"M18.56 5.44l.94 2.06.94-2.06 2.06-.94-2.06-.94-.94-2.06-.94 2.06-2.06.94zm-11 1L8.5 8.5l.94-2.06 2.06-.94-2.06-.94L8.5 2.5l-.94 2.06-2.06.94zm10 10l.94 2.06.94-2.06 2.06-.94-2.06-.94-.94-2.06-.94 2.06-2.06.94z\"/><path d=\"M17.41 7.96l-1.37-1.37c-.4-.4-.92-.59-1.43-.59-.52 0-1.04.2-1.43.59L10.3 9.45l-7.72 7.72c-.78.78-.78 2.05 0 2.83L4 21.41c.39.39.9.59 1.41.59.51 0 1.02-.2 1.41-.59l7.78-7.78 2.81-2.81c.8-.78.8-2.07 0-2.86zM5.41 20L4 18.59l7.72-7.72 1.47 1.35L5.41 20z\"/>\n",
              "  </svg>\n",
              "      </button>\n",
              "      \n",
              "  <style>\n",
              "    .colab-df-container {\n",
              "      display:flex;\n",
              "      flex-wrap:wrap;\n",
              "      gap: 12px;\n",
              "    }\n",
              "\n",
              "    .colab-df-convert {\n",
              "      background-color: #E8F0FE;\n",
              "      border: none;\n",
              "      border-radius: 50%;\n",
              "      cursor: pointer;\n",
              "      display: none;\n",
              "      fill: #1967D2;\n",
              "      height: 32px;\n",
              "      padding: 0 0 0 0;\n",
              "      width: 32px;\n",
              "    }\n",
              "\n",
              "    .colab-df-convert:hover {\n",
              "      background-color: #E2EBFA;\n",
              "      box-shadow: 0px 1px 2px rgba(60, 64, 67, 0.3), 0px 1px 3px 1px rgba(60, 64, 67, 0.15);\n",
              "      fill: #174EA6;\n",
              "    }\n",
              "\n",
              "    [theme=dark] .colab-df-convert {\n",
              "      background-color: #3B4455;\n",
              "      fill: #D2E3FC;\n",
              "    }\n",
              "\n",
              "    [theme=dark] .colab-df-convert:hover {\n",
              "      background-color: #434B5C;\n",
              "      box-shadow: 0px 1px 3px 1px rgba(0, 0, 0, 0.15);\n",
              "      filter: drop-shadow(0px 1px 2px rgba(0, 0, 0, 0.3));\n",
              "      fill: #FFFFFF;\n",
              "    }\n",
              "  </style>\n",
              "\n",
              "      <script>\n",
              "        const buttonEl =\n",
              "          document.querySelector('#df-4602d623-4125-4eeb-8ce4-4e913e65ff0e button.colab-df-convert');\n",
              "        buttonEl.style.display =\n",
              "          google.colab.kernel.accessAllowed ? 'block' : 'none';\n",
              "\n",
              "        async function convertToInteractive(key) {\n",
              "          const element = document.querySelector('#df-4602d623-4125-4eeb-8ce4-4e913e65ff0e');\n",
              "          const dataTable =\n",
              "            await google.colab.kernel.invokeFunction('convertToInteractive',\n",
              "                                                     [key], {});\n",
              "          if (!dataTable) return;\n",
              "\n",
              "          const docLinkHtml = 'Like what you see? Visit the ' +\n",
              "            '<a target=\"_blank\" href=https://colab.research.google.com/notebooks/data_table.ipynb>data table notebook</a>'\n",
              "            + ' to learn more about interactive tables.';\n",
              "          element.innerHTML = '';\n",
              "          dataTable['output_type'] = 'display_data';\n",
              "          await google.colab.output.renderOutput(dataTable, element);\n",
              "          const docLink = document.createElement('div');\n",
              "          docLink.innerHTML = docLinkHtml;\n",
              "          element.appendChild(docLink);\n",
              "        }\n",
              "      </script>\n",
              "    </div>\n",
              "  </div>\n",
              "  "
            ],
            "text/plain": [
              "   temperature  rendement\n",
              "0          100         45\n",
              "1          110         51\n",
              "2          120         54\n",
              "3          130         61\n",
              "4          140         66\n",
              "5          150         70\n",
              "6          160         74\n",
              "7          170         78\n",
              "8          180         85\n",
              "9          190         89"
            ]
          },
          "execution_count": 144,
          "metadata": {},
          "output_type": "execute_result"
        }
      ],
      "source": [
        "\n",
        "data"
      ]
    },
    {
      "cell_type": "code",
      "execution_count": 145,
      "metadata": {
        "id": "8XhyNqk95OK9"
      },
      "outputs": [],
      "source": [
        "data=data.values"
      ]
    },
    {
      "cell_type": "code",
      "execution_count": 7,
      "metadata": {
        "id": "fz2xtsbWvXsz"
      },
      "outputs": [
        {
          "ename": "NameError",
          "evalue": "name 'data' is not defined",
          "output_type": "error",
          "traceback": [
            "\u001b[1;31m---------------------------------------------------------------------------\u001b[0m",
            "\u001b[1;31mNameError\u001b[0m                                 Traceback (most recent call last)",
            "Cell \u001b[1;32mIn[7], line 1\u001b[0m\n\u001b[1;32m----> 1\u001b[0m x\u001b[39m=\u001b[39mdata[:,\u001b[39m0\u001b[39m]\n\u001b[0;32m      2\u001b[0m y\u001b[39m=\u001b[39mdata[:,\u001b[39m1\u001b[39m]\n",
            "\u001b[1;31mNameError\u001b[0m: name 'data' is not defined"
          ]
        }
      ],
      "source": [
        "x=data[:,0]\n",
        "y=data[:,1]"
      ]
    },
    {
      "cell_type": "code",
      "execution_count": 6,
      "metadata": {
        "id": "OWmzWCwxwY7s"
      },
      "outputs": [
        {
          "ename": "NameError",
          "evalue": "name 'x' is not defined",
          "output_type": "error",
          "traceback": [
            "\u001b[1;31m---------------------------------------------------------------------------\u001b[0m",
            "\u001b[1;31mNameError\u001b[0m                                 Traceback (most recent call last)",
            "Cell \u001b[1;32mIn[6], line 1\u001b[0m\n\u001b[1;32m----> 1\u001b[0m x\u001b[39m=\u001b[39mx\u001b[39m.\u001b[39mastype(np\u001b[39m.\u001b[39mfloat64)\n\u001b[0;32m      2\u001b[0m y\u001b[39m=\u001b[39my\u001b[39m.\u001b[39mastype(np\u001b[39m.\u001b[39mfloat64)\n",
            "\u001b[1;31mNameError\u001b[0m: name 'x' is not defined"
          ]
        }
      ],
      "source": [
        "x=x.astype(np.float64)\n",
        "y=y.astype(np.float64)"
      ]
    },
    {
      "cell_type": "code",
      "execution_count": 148,
      "metadata": {
        "colab": {
          "base_uri": "https://localhost:8080/"
        },
        "id": "2JV1qcrd0o4P",
        "outputId": "273443a7-c048-48d5-8124-7edac6d82421"
      },
      "outputs": [
        {
          "data": {
            "text/plain": [
              "dtype('float64')"
            ]
          },
          "execution_count": 148,
          "metadata": {},
          "output_type": "execute_result"
        }
      ],
      "source": []
    },
    {
      "cell_type": "code",
      "execution_count": 149,
      "metadata": {
        "id": "0rvUISsCurOU"
      },
      "outputs": [],
      "source": [
        "def f(m,b,x):\n",
        "  return m*x+b"
      ]
    },
    {
      "cell_type": "code",
      "execution_count": 150,
      "metadata": {
        "colab": {
          "base_uri": "https://localhost:8080/"
        },
        "id": "1QVfPQaruzBr",
        "outputId": "5ae6be1d-d68f-4bbc-958f-466a137de9df"
      },
      "outputs": [
        {
          "data": {
            "text/plain": [
              "101.0"
            ]
          },
          "execution_count": 150,
          "metadata": {},
          "output_type": "execute_result"
        }
      ],
      "source": [
        "f(1,1,x[0])"
      ]
    },
    {
      "cell_type": "code",
      "execution_count": 2,
      "metadata": {
        "id": "2Ff6KU49vpIC"
      },
      "outputs": [],
      "source": [
        "def loss_function(m,b,x,y):\n",
        "  error=sum((f(m,b,x)-y)**2)\n",
        "  error/=(2*len(x))\n",
        "  return error"
      ]
    },
    {
      "cell_type": "code",
      "execution_count": 5,
      "metadata": {
        "colab": {
          "base_uri": "https://localhost:8080/"
        },
        "id": "u_Hn136RwPS0",
        "outputId": "df7fb95a-7e6a-482f-a636-06857a7b856f"
      },
      "outputs": [
        {
          "ename": "NameError",
          "evalue": "name 'x' is not defined",
          "output_type": "error",
          "traceback": [
            "\u001b[1;31m---------------------------------------------------------------------------\u001b[0m",
            "\u001b[1;31mNameError\u001b[0m                                 Traceback (most recent call last)",
            "Cell \u001b[1;32mIn[5], line 1\u001b[0m\n\u001b[1;32m----> 1\u001b[0m loss_function(\u001b[39m1\u001b[39m,\u001b[39m1\u001b[39m,x,y)\n",
            "\u001b[1;31mNameError\u001b[0m: name 'x' is not defined"
          ]
        }
      ],
      "source": [
        "loss_function(1,1,x,y)\n"
      ]
    },
    {
      "cell_type": "code",
      "execution_count": 159,
      "metadata": {
        "id": "pS2zqSfCw-Qo"
      },
      "outputs": [],
      "source": [
        "def gradient_descent(m,b,x,y,alpha,iteration):\n",
        "  for i in range(iteration):\n",
        "    dj_dw=0\n",
        "    dj_db=0\n",
        "    #gradient \n",
        "    for j in range(len(x)):\n",
        "      f_wb=f(m,b,x[j])\n",
        "      \n",
        "      dj_dw+=(f_wb-y[j])*x[j]\n",
        "      dj_db+=(f_wb-y[j])\n",
        "      print(f_wb,dj_dw,dj_db)\n",
        "    dj_dw/=len(x)\n",
        "    dj_db/=len(x)\n",
        "    m-=alpha*dj_dw\n",
        "    b-=alpha*dj_db\n",
        "    plt.scatter(i,loss_function(m,b,x,y))\n",
        "  plt.show()\n",
        "  return m,b\n"
      ]
    },
    {
      "cell_type": "code",
      "execution_count": 161,
      "metadata": {
        "colab": {
          "base_uri": "https://localhost:8080/"
        },
        "id": "Go69H7z2y0OJ",
        "outputId": "763d510c-24a0-4d56-d440-29f6a84a7dee"
      },
      "outputs": [
        {
          "name": "stderr",
          "output_type": "stream",
          "text": [
            "<ipython-input-125-cc76e26c3df2>:6: RuntimeWarning: overflow encountered in double_scalars\n",
            "  error+=(f_wb[i]-y_train[i])**2\n"
          ]
        },
        {
          "data": {
            "text/plain": [
              "(-2.6010117264073537e+233,\n",
              " -1.726074837629232e+231,\n",
              " [111687960.43451452,\n",
              "  5284006064108.696,\n",
              "  2.4998862995327872e+17,\n",
              "  1.182707104187716e+22,\n",
              "  5.595438858789372e+26,\n",
              "  2.6472265120917764e+31,\n",
              "  1.2524144009390172e+36,\n",
              "  5.925227117946975e+40,\n",
              "  2.8032507748977648e+45,\n",
              "  1.3262301597120387e+50,\n",
              "  6.274452689998695e+54,\n",
              "  2.968470915152456e+59,\n",
              "  1.404396528186731e+64,\n",
              "  6.644261186172503e+68,\n",
              "  3.1434289265210077e+73,\n",
              "  1.4871699259283847e+78,\n",
              "  7.035865738607973e+82,\n",
              "  3.3286987471061425e+87,\n",
              "  1.5748218855549386e+92,\n",
              "  7.450550979955446e+96,\n",
              "  3.5248881422138787e+101,\n",
              "  1.6676399434816445e+106,\n",
              "  7.889677257527906e+110,\n",
              "  3.732640698087129e+115,\n",
              "  1.7659285831651253e+120,\n",
              "  8.354685095829689e+124,\n",
              "  3.952637933147491e+129,\n",
              "  1.8700102339410717e+134,\n",
              "  8.847099922101195e+138,\n",
              "  4.185601533671046e+143,\n",
              "  1.9802263287322047e+148,\n",
              "  9.36853707038136e+152,\n",
              "  4.432295721232136e+157,\n",
              "  2.09693842409624e+162,\n",
              "  9.920707080503325e+166,\n",
              "  4.693529759681282e+171,\n",
              "  2.2205293862880775e+176,\n",
              "  1.0505421309406458e+181,\n",
              "  4.9701606098814014e+185,\n",
              "  2.351404647227073e+190,\n",
              "  1.1124597873172175e+195,\n",
              "  5.263095740910804e+199,\n",
              "  2.4899935344894184e+204,\n",
              "  1.1780267939275902e+209,\n",
              "  5.573296106955066e+213,\n",
              "  2.6367506796886795e+218,\n",
              "  1.247458238969675e+223,\n",
              "  5.901779299653235e+227,\n",
              "  2.792157509864515e+232,\n",
              "  1.3209818876742609e+237,\n",
              "  6.249622886239418e+241,\n",
              "  2.95672382677201e+246,\n",
              "  1.398838929473673e+251,\n",
              "  6.617967944430326e+255,\n",
              "  3.1309894792523816e+260,\n",
              "  1.4812847692076487e+265,\n",
              "  7.008022805654688e+269,\n",
              "  3.3155261341711338e+274,\n",
              "  1.5685898649618985e+279,\n",
              "  7.421067018904058e+283,\n",
              "  3.5109391517331573e+288,\n",
              "  1.6610406152878457e+293,\n",
              "  7.858455548208037e+297,\n",
              "  3.717869571326524e+302,\n",
              "  inf,\n",
              "  inf,\n",
              "  inf,\n",
              "  inf,\n",
              "  inf,\n",
              "  inf,\n",
              "  inf,\n",
              "  inf,\n",
              "  inf,\n",
              "  inf,\n",
              "  inf,\n",
              "  inf,\n",
              "  inf,\n",
              "  inf,\n",
              "  inf,\n",
              "  inf,\n",
              "  inf,\n",
              "  inf,\n",
              "  inf,\n",
              "  inf,\n",
              "  inf,\n",
              "  inf,\n",
              "  inf,\n",
              "  inf,\n",
              "  inf,\n",
              "  inf,\n",
              "  inf,\n",
              "  inf,\n",
              "  inf,\n",
              "  inf,\n",
              "  inf,\n",
              "  inf,\n",
              "  inf,\n",
              "  inf,\n",
              "  inf,\n",
              "  inf],\n",
              " [[101.57000000000001, 0.6729999999999999],\n",
              "  [-21990.88085, -145.93723],\n",
              "  [4783329.7638585, 31742.9723748],\n",
              "  [-1040420149.3791671, -6904401.941943773],\n",
              "  [226301393974.35464, 1501773859.3502676],\n",
              "  [-49222730761416.63, -326650265141.3845],\n",
              "  [1.0706417583492674e+16, 71049575841564.83],\n",
              "  [-2.3287488462946273e+18, -1.545396641598123e+16],\n",
              "  [5.065252823203846e+20, 3.361386400375388e+18],\n",
              "  [-1.1017412291496418e+23, -7.311338868281862e+20],\n",
              "  [2.3963931878140614e+25, 1.5902865567873817e+23],\n",
              "  [-5.212385775046318e+27, -3.459026285418194e+25],\n",
              "  [1.1337440619537128e+30, 7.523715013591522e+27],\n",
              "  [-2.466002428617022e+32, -1.6364804119694283e+30],\n",
              "  [5.36379257190176e+34, 3.559502365416184e+32],\n",
              "  [-1.166676497172931e+37, -7.742260155839931e+34],\n",
              "  [2.5376336441233848e+39, 1.6840160833464686e+37],\n",
              "  [-5.519597358300447e+41, -3.662897024753778e+39],\n",
              "  [1.200565537437206e+44, 7.967153488990586e+41],\n",
              "  [-2.6113455676515137e+46, -1.732932547329848e+44],\n",
              "  [5.6799278848614045e+48, 3.7692950408761297e+46],\n",
              "  [-1.2354389697354482e+51, -8.198579412144363e+48],\n",
              "  [2.687198638576076e+53, 1.7832699124983768e+51],\n",
              "  [-5.844915613040279e+55, -3.878783653801577e+53],\n",
              "  [1.2713253881992408e+58, 8.436727680735768e+55],\n",
              "  [-2.7652550518847197e+60, -1.835069452484971e+58],\n",
              "  [6.014695822919876e+62, 3.991452637653242e+60],\n",
              "  [-1.308254217548319e+65, -8.681793562121054e+62],\n",
              "  [2.845578809174244e+67, 1.8883736398185627e+65],\n",
              "  [-6.1894077241317535e+69, -4.107394374268451e+67],\n",
              "  [1.3462557372170834e+72, 8.933977995685784e+69],\n",
              "  [-2.928235771128095e+74, -1.9432261807490416e+72],\n",
              "  [6.369194569999817e+76, 4.2267039289463224e+74],\n",
              "  [-1.3853611061819301e+79, -9.193487757603165e+76],\n",
              "  [3.0132937115181836e+81, 1.999672051083771e+79],\n",
              "  [-6.554203774999456e+83, -4.349479128395637e+81],\n",
              "  [1.4256023885097432e+86, 9.460535630378095e+83],\n",
              "  [-3.1008223727753324e+88, -2.0577575330650533e+86],\n",
              "  [6.744587035628644e+90, 4.475820640946888e+88],\n",
              "  [-1.4670125796485238e+93, -9.73534057731616e+90],\n",
              "  [3.1908935231739114e+95, 2.117530253318817e+93],\n",
              "  [-6.940500454789988e+97, -4.6058320590943156e+95],\n",
              "  [1.5096256334816793e+100, 1.0018127922060447e+98],\n",
              "  [-3.2835810156775226e+102, -2.179039221905595e+100],\n",
              "  [7.142104669785786e+104, 4.739619984435542e+102],\n",
              "  [-1.5534764901681827e+107, -1.0309129533343478e+105],\n",
              "  [3.3789608484940304e+109, 2.2423348725058548e+107],\n",
              "  [-7.349564984031031e+111, -4.877294115078536e+109],\n",
              "  [1.5986011047914178e+114, 1.0608584015105715e+112],\n",
              "  [-3.477111227389553e+116, -2.3074691037726016e+114],\n",
              "  [7.563051502592324e+118, 5.018967335587503e+116],\n",
              "  [-1.6450364768401969e+121, -1.0916736902136554e+119],\n",
              "  [3.57811262981251e+123, 2.37449532188517e+121],\n",
              "  [-7.782739271663884e+125, -5.164755809541476e+123],\n",
              "  [1.6928206805461333e+128, 1.1233840861398172e+126],\n",
              "  [-3.68204787088033e+130, -2.4434684843391096e+128],\n",
              "  [8.008808422094948e+132, 5.31477907478152e+130],\n",
              "  [-1.741992896102235e+135, -1.1560155899197337e+133],\n",
              "  [3.7890021712829e+137, 2.5144451450080355e+135],\n",
              "  [-8.241444317086334e+139, -5.469160141424625e+137],\n",
              "  [1.7925934417883284e+142, 1.189594957437508e+140],\n",
              "  [-3.899063227158442e+144, -2.587483500514445e+142],\n",
              "  [8.480837704177184e+146, 5.6280255927246474e+144],\n",
              "  [-1.8446638070296318e+149, -1.2241497217688943e+147],\n",
              "  [4.0123212819991055e+151, 2.6626434379474542e+149],\n",
              "  [-8.727184871646558e+153, -5.791505688863023e+151],\n",
              "  [1.898246686415615e+156, 1.2597082157567766e+154],\n",
              "  [-4.128869200645247e+158, -2.7399865839666495e+156],\n",
              "  [8.980687809458089e+160, 5.959734473754338e+158],\n",
              "  [-1.9533860147070036e+163, -1.296299595242406e+161],\n",
              "  [4.248802545429043e+165, 2.819576355332256e+163],\n",
              "  [-9.241554374879692e+167, -6.1328498849543235e+165],\n",
              "  [2.0101270028596647e+170, 1.3339538629714504e+168],\n",
              "  [-4.372219654529902e+172, -2.901478010903096e+170],\n",
              "  [9.509998462914119e+174, 6.310993866760417e+172],\n",
              "  [-2.068516175094889e+177, -1.3727018931944546e+175],\n",
              "  [4.499221722605896e+179, 2.9857587051449634e+177],\n",
              "  [-9.786240181680071e+181, -6.494312486597615e+179],\n",
              "  [2.128601407046471e+184, 1.412575456981879e+182],\n",
              "  [-4.629912883767337e+186, -3.0724875431932622e+184],\n",
              "  [1.0070506032887721e+189, 6.682956054785025e+186],\n",
              "  [-2.1904319650158733e+191, -1.4536072482744823e+189],\n",
              "  [4.7644002969605244e+193, 3.1617356375150996e+191],\n",
              "  [-1.0363029097556582e+196, -6.877079247781361e+193],\n",
              "  [2.254058546367649e+198, 1.4958309106904008e+196],\n",
              "  [-4.902794233831688e+200, -3.253576166217257e+198],\n",
              "  [1.066404922712802e+203, 7.076841235010396e+200],\n",
              "  [-2.319533321098252e+205, -1.5392810651109026e+203],\n",
              "  [5.0452081691431405e+207, 3.348084433047868e+205],\n",
              "  [-1.0973813240129126e+210, -7.282405809370382e+207],\n",
              "  [2.3869099746123213e+212, 1.583993338067447e+210],\n",
              "  [-5.191758873815819e+214, -3.445337929140999e+212],\n",
              "  [1.129257512454913e+217, 7.493941521534441e+214],\n",
              "  [-2.4562437517414974e+219, -1.6300043909533048e+217],\n",
              "  [5.342566510674445e+221, 3.5454163965547326e+219],\n",
              "  [-1.1620596246094419e+224, -7.711621818152054e+221],\n",
              "  [2.5275915020419e+226, 1.6773519500837202e+224],\n",
              "  [-5.4977547329738945e+228, -3.6484018936549263e+226],\n",
              "  [1.1958145562492803e+231, 7.935625184064962e+228],\n",
              "  [-2.6010117264073537e+233, -1.726074837629232e+231]])"
            ]
          },
          "execution_count": 161,
          "metadata": {},
          "output_type": "execute_result"
        }
      ],
      "source": [
        "m,b=0,0\n",
        "alpha=0.01\n",
        "iteration=100\n",
        "gradient_descentt(x,y,alpha,m,b,iteration)"
      ]
    },
    {
      "cell_type": "code",
      "execution_count": 155,
      "metadata": {
        "id": "5iHZF8TJz4Iu"
      },
      "outputs": [],
      "source": [
        "x=data[:,0]\n",
        "y=data[:,1]\n",
        "y_predict=f(best_m,best_b,x)"
      ]
    },
    {
      "cell_type": "markdown",
      "metadata": {
        "id": "DWyy4kb9ossA"
      },
      "source": [
        "# f(x)=mx+b\n",
        "points=[x,y]"
      ]
    },
    {
      "cell_type": "code",
      "execution_count": 156,
      "metadata": {
        "id": "tQftuxHWfvvH"
      },
      "outputs": [],
      "source": [
        "#loss_function : loss is a number indicating how bad the model's prediction was on a single example.\n",
        "\n",
        "def loss_function(m, b, points):\n",
        "    total_error = 0\n",
        "    for i in range(len(points)):\n",
        "        x = points.iloc[i].temperature  \n",
        "        y = points.iloc[i].rendement\n",
        "        total_error += (y - (m * x + b))**2\n",
        "        print(total_error)\n",
        "    total_error /= float(len(points))\n",
        "    return total_error\n"
      ]
    },
    {
      "cell_type": "code",
      "execution_count": 156,
      "metadata": {
        "id": "BqyfzA6Ouqoh"
      },
      "outputs": [],
      "source": []
    },
    {
      "cell_type": "code",
      "execution_count": 157,
      "metadata": {
        "id": "PMf8yfoPfvvH"
      },
      "outputs": [],
      "source": [
        "\n",
        "# gradient_descent \n",
        "#learning rate : L\n",
        "def gradient_descent(m_now, b_now, points, L):\n",
        "    m_gradient = 0\n",
        "    b_gradient = 0\n",
        "\n",
        "    n = len(points)\n",
        "    for i in range(n):\n",
        "        x = points.iloc[i].temperature\n",
        "        y = points.iloc[i].rendement\n",
        "\n",
        "        m_gradient += -(1/n) * x * (y - (m_now * x + b_now))\n",
        "        b_gradient += -(1/n) * (y - (m_now * x + b_now))\n",
        "\n",
        "    m = m_now - m_gradient * L\n",
        "    b = b_now - b_gradient * L\n",
        "    #print(m,b)\n",
        "\n",
        "    return m, b\n",
        "\n",
        "             "
      ]
    },
    {
      "cell_type": "code",
      "execution_count": 158,
      "metadata": {
        "colab": {
          "base_uri": "https://localhost:8080/",
          "height": 356
        },
        "id": "XZkAvNdrfvvI",
        "outputId": "c66dcd90-b316-489d-f641-702e7265a817"
      },
      "outputs": [
        {
          "ename": "AttributeError",
          "evalue": "ignored",
          "output_type": "error",
          "traceback": [
            "\u001b[0;31m---------------------------------------------------------------------------\u001b[0m",
            "\u001b[0;31mAttributeError\u001b[0m                            Traceback (most recent call last)",
            "\u001b[0;32m<ipython-input-158-86daf2c80350>\u001b[0m in \u001b[0;36m<cell line: 8>\u001b[0;34m()\u001b[0m\n\u001b[1;32m     10\u001b[0m         \u001b[0;31m#print(f\"Epoch:{i}\")\u001b[0m\u001b[0;34m\u001b[0m\u001b[0;34m\u001b[0m\u001b[0m\n\u001b[1;32m     11\u001b[0m \u001b[0;34m\u001b[0m\u001b[0m\n\u001b[0;32m---> 12\u001b[0;31m       \u001b[0mm\u001b[0m\u001b[0;34m,\u001b[0m\u001b[0mb\u001b[0m\u001b[0;34m=\u001b[0m\u001b[0mgradient_descent\u001b[0m\u001b[0;34m(\u001b[0m\u001b[0mm\u001b[0m\u001b[0;34m,\u001b[0m\u001b[0mb\u001b[0m\u001b[0;34m,\u001b[0m\u001b[0mdata\u001b[0m\u001b[0;34m,\u001b[0m\u001b[0mL\u001b[0m\u001b[0;34m)\u001b[0m\u001b[0;34m\u001b[0m\u001b[0;34m\u001b[0m\u001b[0m\n\u001b[0m\u001b[1;32m     13\u001b[0m       \u001b[0merror\u001b[0m\u001b[0;34m.\u001b[0m\u001b[0mappend\u001b[0m\u001b[0;34m(\u001b[0m\u001b[0mloss_function\u001b[0m\u001b[0;34m(\u001b[0m\u001b[0mm\u001b[0m\u001b[0;34m,\u001b[0m\u001b[0mb\u001b[0m\u001b[0;34m,\u001b[0m\u001b[0mdata\u001b[0m\u001b[0;34m)\u001b[0m\u001b[0;34m)\u001b[0m\u001b[0;34m\u001b[0m\u001b[0;34m\u001b[0m\u001b[0m\n\u001b[1;32m     14\u001b[0m         \u001b[0;31m#print(m,b)\u001b[0m\u001b[0;34m\u001b[0m\u001b[0;34m\u001b[0m\u001b[0m\n",
            "\u001b[0;32m<ipython-input-157-5e02f6dc098d>\u001b[0m in \u001b[0;36mgradient_descent\u001b[0;34m(m_now, b_now, points, L)\u001b[0m\n\u001b[1;32m      7\u001b[0m     \u001b[0mn\u001b[0m \u001b[0;34m=\u001b[0m \u001b[0mlen\u001b[0m\u001b[0;34m(\u001b[0m\u001b[0mpoints\u001b[0m\u001b[0;34m)\u001b[0m\u001b[0;34m\u001b[0m\u001b[0;34m\u001b[0m\u001b[0m\n\u001b[1;32m      8\u001b[0m     \u001b[0;32mfor\u001b[0m \u001b[0mi\u001b[0m \u001b[0;32min\u001b[0m \u001b[0mrange\u001b[0m\u001b[0;34m(\u001b[0m\u001b[0mn\u001b[0m\u001b[0;34m)\u001b[0m\u001b[0;34m:\u001b[0m\u001b[0;34m\u001b[0m\u001b[0;34m\u001b[0m\u001b[0m\n\u001b[0;32m----> 9\u001b[0;31m         \u001b[0mx\u001b[0m \u001b[0;34m=\u001b[0m \u001b[0mpoints\u001b[0m\u001b[0;34m.\u001b[0m\u001b[0miloc\u001b[0m\u001b[0;34m[\u001b[0m\u001b[0mi\u001b[0m\u001b[0;34m]\u001b[0m\u001b[0;34m.\u001b[0m\u001b[0mtemperature\u001b[0m\u001b[0;34m\u001b[0m\u001b[0;34m\u001b[0m\u001b[0m\n\u001b[0m\u001b[1;32m     10\u001b[0m         \u001b[0my\u001b[0m \u001b[0;34m=\u001b[0m \u001b[0mpoints\u001b[0m\u001b[0;34m.\u001b[0m\u001b[0miloc\u001b[0m\u001b[0;34m[\u001b[0m\u001b[0mi\u001b[0m\u001b[0;34m]\u001b[0m\u001b[0;34m.\u001b[0m\u001b[0mrendement\u001b[0m\u001b[0;34m\u001b[0m\u001b[0;34m\u001b[0m\u001b[0m\n\u001b[1;32m     11\u001b[0m \u001b[0;34m\u001b[0m\u001b[0m\n",
            "\u001b[0;31mAttributeError\u001b[0m: 'numpy.ndarray' object has no attribute 'iloc'"
          ]
        }
      ],
      "source": [
        "m=0\n",
        "b=0\n",
        "L=0.01\n",
        "epochs =800\n",
        "\n",
        "error=[]\n",
        "\n",
        "for i in range(epochs):\n",
        "    #if i%50==0:\n",
        "        #print(f\"Epoch:{i}\")\n",
        "\n",
        "      m,b=gradient_descent(m,b,data,L)\n",
        "      error.append(loss_function(m,b,data))\n",
        "        #print(m,b)\n",
        "\n",
        "        #plt.scatter(data.temperature,data.rendement,color=\"black\")\n",
        "        #plt.plot(list(range(100,200)),[m*x+b for x in range(100,200)],color=\"red\")\n",
        "        #plt.show()\n",
        "\n"
      ]
    },
    {
      "cell_type": "code",
      "execution_count": null,
      "metadata": {
        "id": "7ukxCnGYs20c"
      },
      "outputs": [],
      "source": [
        "plt.plot(range(epochs),error)"
      ]
    }
  ],
  "metadata": {
    "colab": {
      "provenance": []
    },
    "kernelspec": {
      "display_name": "Python 3",
      "language": "python",
      "name": "python3"
    },
    "language_info": {
      "codemirror_mode": {
        "name": "ipython",
        "version": 3
      },
      "file_extension": ".py",
      "mimetype": "text/x-python",
      "name": "python",
      "nbconvert_exporter": "python",
      "pygments_lexer": "ipython3",
      "version": "3.10.11"
    },
    "orig_nbformat": 4
  },
  "nbformat": 4,
  "nbformat_minor": 0
}
